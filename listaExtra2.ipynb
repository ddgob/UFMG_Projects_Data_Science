{
  "nbformat": 4,
  "nbformat_minor": 0,
  "metadata": {
    "colab": {
      "provenance": []
    },
    "kernelspec": {
      "name": "python3",
      "display_name": "Python 3"
    },
    "language_info": {
      "name": "python"
    },
    "gpuClass": "standard"
  },
  "cells": [
    {
      "cell_type": "markdown",
      "metadata": {
        "id": "oV8iH-KSPpsa"
      },
      "source": [
        "# Intervalos de Confiança\n",
        "\n",
        "Neste notebook, vamos aprender a calcular intervalos de confiança."
      ]
    },
    {
      "cell_type": "markdown",
      "metadata": {
        "id": "l2mGxqXAQY2u"
      },
      "source": [
        "## Uma breve introdução\n",
        "\n",
        "Embora intervalos de confiança sejam amplamente usados, pode ser difícil entender seu conceito e quando devemos usá-lo. Então vamos a um exemplo:\n",
        "\n",
        "Suponha que você queira saber qual a porcentagem de pessoas nos Brasil que amam futebol. Para obter uma resposta 100% correta a essa pergunta, você deveria perguntar a cada um dos 212 milhões habitantes se eles amam ou não futebol. Obviamente, não é viável falar com 212 milhões de pessoas.\n",
        "\n",
        "Você poderia então obter uma amostra aleatória de brasileiros (falando com muito menos pessoas) para obter a porcentagem de pessoas que amam futebol nessa amostra. Contudo, assim não estaria 100% confiante de que esse número está certo ou quão longe esse número está da resposta real.\n",
        "\n",
        "Você poderia tentar obter um intervalo, como: “Tenho 95% de certeza que a porcentagem de pessoas que amam futebol no Brasil está entre 58% e 62%”. É daí que vem o nome Intervalo de confiança, temos um intervalo e temos alguma confiança sobre ele."
      ]
    },
    {
      "cell_type": "markdown",
      "metadata": {
        "id": "8gy3R7pTUQ-R"
      },
      "source": [
        "## Como calcular intervalos de confiança"
      ]
    },
    {
      "cell_type": "markdown",
      "metadata": {
        "id": "sx68L-PHVeiF"
      },
      "source": [
        "O cálculo do intervalo de confiança (ou CI, Confidence Interval) envolve a melhor estimativa obtida pela amostra (média ou mediana) e uma margem de erro. A margem de erro é calculada usando o Z-score para a confiança desejada multiplicada pelo desvio padrão amostral da média.\n"
      ]
    },
    {
      "cell_type": "markdown",
      "metadata": {
        "id": "BAYsaU2IWzkL"
      },
      "source": [
        "$$\\left(\\overline{X} - Z\\frac{s}{\\sqrt{n}},~\\overline{X} + Z\\frac{s}{\\sqrt{n}}\\right)$$"
      ]
    },
    {
      "cell_type": "markdown",
      "metadata": {
        "id": "DmUv_lmuEeeh"
      },
      "source": [
        "Em que $\\overline X$ é a média amostral, $Z$ é o valor de Z-score associado ao nível de confiança desejado, e $\\dfrac{s}{\\sqrt{n}}$ é o desvio padrão amostral da média."
      ]
    },
    {
      "cell_type": "markdown",
      "metadata": {
        "id": "uwHWVH4KXdsM"
      },
      "source": [
        "Aqui estão os z-scores para os níveis de confiança mais comuns:"
      ]
    },
    {
      "cell_type": "markdown",
      "metadata": {
        "id": "3ioFY0V3XwP3"
      },
      "source": [
        "| Confiança |  $Z$ |\n",
        "|   :----:  | :--: |\n",
        "| 75%       | 1.15 |\n",
        "| 90%       | 1.64 |\n",
        "| 95%       | 1.96 |\n",
        "| 99%       | 2.57 |"
      ]
    },
    {
      "cell_type": "markdown",
      "metadata": {
        "id": "pZQQYw8IYy0E"
      },
      "source": [
        "## Vamos ao código!"
      ]
    },
    {
      "cell_type": "code",
      "metadata": {
        "id": "DoW5tEl7ron2"
      },
      "source": [
        "import pandas as pd\n",
        "import numpy as np"
      ],
      "execution_count": 16,
      "outputs": []
    },
    {
      "cell_type": "markdown",
      "metadata": {
        "id": "w5gPkU_mY3S3"
      },
      "source": [
        "## Base de dados\n",
        "Para este exercício, vamos utilizar uma base de dados do site [basedosdados.org](https://basedosdados.org), uma organização colaborativa que cataloga e divulga dados públicos brasileiros. Vocês podem usar esse site para buscar bases para projetos acadêmicos, sempre que necessitarem. Outro exemplo de site de reúne bases abertas (nesse caso, americanas) é o [UCI](https://archive.ics.uci.edu/ml/index.php)."
      ]
    },
    {
      "cell_type": "markdown",
      "metadata": {
        "id": "PK_W3lKVm9N9"
      },
      "source": [
        "Vamos usar a base de \"Indicadores de Mobilidade e Transportes em 2010\" para analisar os dados sobre tempo médio de deslocamento casa-trabalho para o ano de 2010.\n",
        "\n",
        "Para usar o arquivo, podemos usar duas opções: (1)  baixar o csv e importá-lo (usando pandas), ou (2) usar diretamente o pacote do basededados."
      ]
    },
    {
      "cell_type": "markdown",
      "metadata": {
        "id": "YgGzuKpXpK37"
      },
      "source": [
        "### Opção 1:\n",
        "Baixar a tabela 'tempo_deslocamento_casa_trabalho' em https://basedosdados.org/dataset/br-mobilidados-indicadores, adicionar em Files (menu da esquerda) e importar com pandas.\n",
        "\n",
        "Se o link acima não estiver funcionando, tente: [staging.basedosdados](https://staging.basedosdados.org/dataset/br-mobilidados-indicadores?bdm_table=tempo_deslocamento_casa_trabalho)"
      ]
    },
    {
      "cell_type": "code",
      "metadata": {
        "id": "b2jzaNJbpGBB"
      },
      "source": [
        "df = pd.read_csv(\"tempo_deslocamento_casa_trabalho.csv\")"
      ],
      "execution_count": 17,
      "outputs": []
    },
    {
      "cell_type": "markdown",
      "metadata": {
        "id": "JPE1JAOMpXFD"
      },
      "source": [
        "### Opção 2:\n",
        "Instalar o pacote basedosdados, e importar a base diretamente. Mais detalhes em: https://basedosdados.github.io/mais/access_data_packages/#primeiros-passos.\n",
        "\n",
        "Vocês terão que criar um projeto em https://console.cloud.google.com/projectselector2/home/dashboard?pli=1 para pegar o billing_project_id (ID do projeto)"
      ]
    },
    {
      "cell_type": "code",
      "metadata": {
        "id": "2LtkuGTKnZE1"
      },
      "source": [
        "# !pip install basedosdados\n",
        "# import basedosdados as bd\n",
        "# # Para carregar o dado direto no pandas\n",
        "# df = bd.read_table(\n",
        "#     dataset_id='br_mobilidados_indicadores',\n",
        "#   table_id='tempo_deslocamento_casa_trabalho',\\\n",
        "#   billing_project_id=\"<YOUR_PROJECT_ID>\"  # colocar aqui o ID do projeto do gcloud\n",
        "# )"
      ],
      "execution_count": 18,
      "outputs": []
    },
    {
      "cell_type": "code",
      "metadata": {
        "id": "XJwqVNnr9BQY",
        "colab": {
          "base_uri": "https://localhost:8080/",
          "height": 424
        },
        "outputId": "c731fa4f-4c6b-4a4b-aeab-61837dcd4014"
      },
      "source": [
        "df"
      ],
      "execution_count": 19,
      "outputs": [
        {
          "output_type": "execute_result",
          "data": {
            "text/plain": [
              "      ano sigla_uf  id_municipio  tempo_medio_deslocamento  \\\n",
              "0    2010       RO       1100205                        28   \n",
              "1    2010       AC       1200401                        26   \n",
              "2    2010       PA       1202400                        21   \n",
              "3    2010       PA       1206500                        25   \n",
              "4    2010       AM       1302603                        41   \n",
              "..    ...      ...           ...                       ...   \n",
              "224  2010       GO       5220686                        16   \n",
              "225  2010       GO       5221858                        47   \n",
              "226  2010       GO       5222203                        25   \n",
              "227  2010       GO       5222302                        24   \n",
              "228  2010       DF       5300108                        39   \n",
              "\n",
              "     prop_deslocamento_acima_1_hora  \n",
              "0                               7.0  \n",
              "1                               5.0  \n",
              "2                               3.0  \n",
              "3                               7.0  \n",
              "4                              17.0  \n",
              "..                              ...  \n",
              "224                             2.0  \n",
              "225                            28.0  \n",
              "226                             5.0  \n",
              "227                             8.0  \n",
              "228                            16.0  \n",
              "\n",
              "[229 rows x 5 columns]"
            ],
            "text/html": [
              "\n",
              "  <div id=\"df-d51189a1-8f21-4446-87b0-2c67e02f2092\">\n",
              "    <div class=\"colab-df-container\">\n",
              "      <div>\n",
              "<style scoped>\n",
              "    .dataframe tbody tr th:only-of-type {\n",
              "        vertical-align: middle;\n",
              "    }\n",
              "\n",
              "    .dataframe tbody tr th {\n",
              "        vertical-align: top;\n",
              "    }\n",
              "\n",
              "    .dataframe thead th {\n",
              "        text-align: right;\n",
              "    }\n",
              "</style>\n",
              "<table border=\"1\" class=\"dataframe\">\n",
              "  <thead>\n",
              "    <tr style=\"text-align: right;\">\n",
              "      <th></th>\n",
              "      <th>ano</th>\n",
              "      <th>sigla_uf</th>\n",
              "      <th>id_municipio</th>\n",
              "      <th>tempo_medio_deslocamento</th>\n",
              "      <th>prop_deslocamento_acima_1_hora</th>\n",
              "    </tr>\n",
              "  </thead>\n",
              "  <tbody>\n",
              "    <tr>\n",
              "      <th>0</th>\n",
              "      <td>2010</td>\n",
              "      <td>RO</td>\n",
              "      <td>1100205</td>\n",
              "      <td>28</td>\n",
              "      <td>7.0</td>\n",
              "    </tr>\n",
              "    <tr>\n",
              "      <th>1</th>\n",
              "      <td>2010</td>\n",
              "      <td>AC</td>\n",
              "      <td>1200401</td>\n",
              "      <td>26</td>\n",
              "      <td>5.0</td>\n",
              "    </tr>\n",
              "    <tr>\n",
              "      <th>2</th>\n",
              "      <td>2010</td>\n",
              "      <td>PA</td>\n",
              "      <td>1202400</td>\n",
              "      <td>21</td>\n",
              "      <td>3.0</td>\n",
              "    </tr>\n",
              "    <tr>\n",
              "      <th>3</th>\n",
              "      <td>2010</td>\n",
              "      <td>PA</td>\n",
              "      <td>1206500</td>\n",
              "      <td>25</td>\n",
              "      <td>7.0</td>\n",
              "    </tr>\n",
              "    <tr>\n",
              "      <th>4</th>\n",
              "      <td>2010</td>\n",
              "      <td>AM</td>\n",
              "      <td>1302603</td>\n",
              "      <td>41</td>\n",
              "      <td>17.0</td>\n",
              "    </tr>\n",
              "    <tr>\n",
              "      <th>...</th>\n",
              "      <td>...</td>\n",
              "      <td>...</td>\n",
              "      <td>...</td>\n",
              "      <td>...</td>\n",
              "      <td>...</td>\n",
              "    </tr>\n",
              "    <tr>\n",
              "      <th>224</th>\n",
              "      <td>2010</td>\n",
              "      <td>GO</td>\n",
              "      <td>5220686</td>\n",
              "      <td>16</td>\n",
              "      <td>2.0</td>\n",
              "    </tr>\n",
              "    <tr>\n",
              "      <th>225</th>\n",
              "      <td>2010</td>\n",
              "      <td>GO</td>\n",
              "      <td>5221858</td>\n",
              "      <td>47</td>\n",
              "      <td>28.0</td>\n",
              "    </tr>\n",
              "    <tr>\n",
              "      <th>226</th>\n",
              "      <td>2010</td>\n",
              "      <td>GO</td>\n",
              "      <td>5222203</td>\n",
              "      <td>25</td>\n",
              "      <td>5.0</td>\n",
              "    </tr>\n",
              "    <tr>\n",
              "      <th>227</th>\n",
              "      <td>2010</td>\n",
              "      <td>GO</td>\n",
              "      <td>5222302</td>\n",
              "      <td>24</td>\n",
              "      <td>8.0</td>\n",
              "    </tr>\n",
              "    <tr>\n",
              "      <th>228</th>\n",
              "      <td>2010</td>\n",
              "      <td>DF</td>\n",
              "      <td>5300108</td>\n",
              "      <td>39</td>\n",
              "      <td>16.0</td>\n",
              "    </tr>\n",
              "  </tbody>\n",
              "</table>\n",
              "<p>229 rows × 5 columns</p>\n",
              "</div>\n",
              "      <button class=\"colab-df-convert\" onclick=\"convertToInteractive('df-d51189a1-8f21-4446-87b0-2c67e02f2092')\"\n",
              "              title=\"Convert this dataframe to an interactive table.\"\n",
              "              style=\"display:none;\">\n",
              "        \n",
              "  <svg xmlns=\"http://www.w3.org/2000/svg\" height=\"24px\"viewBox=\"0 0 24 24\"\n",
              "       width=\"24px\">\n",
              "    <path d=\"M0 0h24v24H0V0z\" fill=\"none\"/>\n",
              "    <path d=\"M18.56 5.44l.94 2.06.94-2.06 2.06-.94-2.06-.94-.94-2.06-.94 2.06-2.06.94zm-11 1L8.5 8.5l.94-2.06 2.06-.94-2.06-.94L8.5 2.5l-.94 2.06-2.06.94zm10 10l.94 2.06.94-2.06 2.06-.94-2.06-.94-.94-2.06-.94 2.06-2.06.94z\"/><path d=\"M17.41 7.96l-1.37-1.37c-.4-.4-.92-.59-1.43-.59-.52 0-1.04.2-1.43.59L10.3 9.45l-7.72 7.72c-.78.78-.78 2.05 0 2.83L4 21.41c.39.39.9.59 1.41.59.51 0 1.02-.2 1.41-.59l7.78-7.78 2.81-2.81c.8-.78.8-2.07 0-2.86zM5.41 20L4 18.59l7.72-7.72 1.47 1.35L5.41 20z\"/>\n",
              "  </svg>\n",
              "      </button>\n",
              "      \n",
              "  <style>\n",
              "    .colab-df-container {\n",
              "      display:flex;\n",
              "      flex-wrap:wrap;\n",
              "      gap: 12px;\n",
              "    }\n",
              "\n",
              "    .colab-df-convert {\n",
              "      background-color: #E8F0FE;\n",
              "      border: none;\n",
              "      border-radius: 50%;\n",
              "      cursor: pointer;\n",
              "      display: none;\n",
              "      fill: #1967D2;\n",
              "      height: 32px;\n",
              "      padding: 0 0 0 0;\n",
              "      width: 32px;\n",
              "    }\n",
              "\n",
              "    .colab-df-convert:hover {\n",
              "      background-color: #E2EBFA;\n",
              "      box-shadow: 0px 1px 2px rgba(60, 64, 67, 0.3), 0px 1px 3px 1px rgba(60, 64, 67, 0.15);\n",
              "      fill: #174EA6;\n",
              "    }\n",
              "\n",
              "    [theme=dark] .colab-df-convert {\n",
              "      background-color: #3B4455;\n",
              "      fill: #D2E3FC;\n",
              "    }\n",
              "\n",
              "    [theme=dark] .colab-df-convert:hover {\n",
              "      background-color: #434B5C;\n",
              "      box-shadow: 0px 1px 3px 1px rgba(0, 0, 0, 0.15);\n",
              "      filter: drop-shadow(0px 1px 2px rgba(0, 0, 0, 0.3));\n",
              "      fill: #FFFFFF;\n",
              "    }\n",
              "  </style>\n",
              "\n",
              "      <script>\n",
              "        const buttonEl =\n",
              "          document.querySelector('#df-d51189a1-8f21-4446-87b0-2c67e02f2092 button.colab-df-convert');\n",
              "        buttonEl.style.display =\n",
              "          google.colab.kernel.accessAllowed ? 'block' : 'none';\n",
              "\n",
              "        async function convertToInteractive(key) {\n",
              "          const element = document.querySelector('#df-d51189a1-8f21-4446-87b0-2c67e02f2092');\n",
              "          const dataTable =\n",
              "            await google.colab.kernel.invokeFunction('convertToInteractive',\n",
              "                                                     [key], {});\n",
              "          if (!dataTable) return;\n",
              "\n",
              "          const docLinkHtml = 'Like what you see? Visit the ' +\n",
              "            '<a target=\"_blank\" href=https://colab.research.google.com/notebooks/data_table.ipynb>data table notebook</a>'\n",
              "            + ' to learn more about interactive tables.';\n",
              "          element.innerHTML = '';\n",
              "          dataTable['output_type'] = 'display_data';\n",
              "          await google.colab.output.renderOutput(dataTable, element);\n",
              "          const docLink = document.createElement('div');\n",
              "          docLink.innerHTML = docLinkHtml;\n",
              "          element.appendChild(docLink);\n",
              "        }\n",
              "      </script>\n",
              "    </div>\n",
              "  </div>\n",
              "  "
            ]
          },
          "metadata": {},
          "execution_count": 19
        }
      ]
    },
    {
      "cell_type": "markdown",
      "metadata": {
        "id": "_nL4_4PEaawP"
      },
      "source": [
        "Antes de começarmos a análise, é importante explorar se há valores faltantes."
      ]
    },
    {
      "cell_type": "code",
      "metadata": {
        "id": "D2yqkkLNan8S",
        "colab": {
          "base_uri": "https://localhost:8080/"
        },
        "outputId": "269b588e-77ac-43e8-f736-384b24e7f822"
      },
      "source": [
        "df['tempo_medio_deslocamento'].isnull().sum()"
      ],
      "execution_count": 20,
      "outputs": [
        {
          "output_type": "execute_result",
          "data": {
            "text/plain": [
              "0"
            ]
          },
          "metadata": {},
          "execution_count": 20
        }
      ]
    },
    {
      "cell_type": "markdown",
      "metadata": {
        "id": "SiR5qAW2bjco"
      },
      "source": [
        "Não há valores faltantes."
      ]
    },
    {
      "cell_type": "markdown",
      "metadata": {
        "id": "Qy6G6B-U-mY7"
      },
      "source": [
        "### Vamos calcular o intervalo de confiança para o tempo medio de deslocamento no estado de MG para um nível de confiança de 95%."
      ]
    },
    {
      "cell_type": "code",
      "metadata": {
        "id": "SF-lNDIE-iEq",
        "colab": {
          "base_uri": "https://localhost:8080/"
        },
        "outputId": "e65cfdec-6076-4846-e9ca-088a5ba5e86b"
      },
      "source": [
        "## Primeiro, vamos calcular a media e o desvio padrao\n",
        "df_mg = df[df['sigla_uf']=='MG']\n",
        "\n",
        "media_mg = df_mg['tempo_medio_deslocamento'].mean()\n",
        "std_mg = df_mg['tempo_medio_deslocamento'].std(ddof=0)\n",
        "\n",
        "print(\n",
        "    f'O tempo médio de deslocamento no estado de MG é de',\n",
        "    f'{np.round(media_mg,2)}, e o desvio padrão é de, {np.round(std_mg,2)}'\n",
        ")"
      ],
      "execution_count": 21,
      "outputs": [
        {
          "output_type": "stream",
          "name": "stdout",
          "text": [
            "O tempo médio de deslocamento no estado de MG é de 33.95, e o desvio padrão é de, 10.49\n"
          ]
        }
      ]
    },
    {
      "cell_type": "code",
      "metadata": {
        "id": "N0LfA7ClACtZ"
      },
      "source": [
        "## Agora, voltando à tabela do Z-score, vemos que o valor de Z\n",
        "## correspondente a um nível de confiança de 95% é de 1.96\n",
        "## Assim, podemos calcular o intervalo de confiança:\n",
        "\n",
        "sqrt_size_mg = np.sqrt(len(df_mg))\n",
        "\n",
        "z = 1.96\n",
        "CI_inf_mg = media_mg - z*(std_mg/sqrt_size_mg)\n",
        "CI_sup_mg = media_mg + z*(std_mg/sqrt_size_mg)"
      ],
      "execution_count": 22,
      "outputs": []
    },
    {
      "cell_type": "code",
      "metadata": {
        "id": "EwRgysOvA1-J",
        "colab": {
          "base_uri": "https://localhost:8080/"
        },
        "outputId": "1a925487-4c94-4b85-a0a4-9cf7cc5d0dd2"
      },
      "source": [
        "print(f'({np.round(CI_inf_mg,2)}, {np.round(CI_sup_mg,2)})')"
      ],
      "execution_count": 23,
      "outputs": [
        {
          "output_type": "stream",
          "name": "stdout",
          "text": [
            "(30.61, 37.28)\n"
          ]
        }
      ]
    },
    {
      "cell_type": "markdown",
      "metadata": {
        "id": "WA2eaVytBfSo"
      },
      "source": [
        "## Exercício 1\n",
        "\n",
        "Qual é o CI do tempo médio de deslocamento casa-trabalho para o estado de MG, considerando um nível de confiança de 90%?"
      ]
    },
    {
      "cell_type": "code",
      "metadata": {
        "id": "b9sRK9UIUrWx",
        "colab": {
          "base_uri": "https://localhost:8080/"
        },
        "outputId": "4db89875-6e76-41e4-d893-4152775b45ce"
      },
      "source": [
        "dfMG = df[df['sigla_uf']=='MG']\n",
        "mediaMG = dfMG['tempo_medio_deslocamento'].mean()\n",
        "desvPadMG = dfMG['tempo_medio_deslocamento'].std(ddof=0)\n",
        "tamSPQdrdMG = np.sqrt(len(df_mg))\n",
        "zValue90 = 1.64\n",
        "ciInfMG = mediaMG - zValue90*(desvPadMG/tamSPQdrdMG)\n",
        "ciSupMG = mediaMG + zValue90*(desvPadMG/tamSPQdrdMG)\n",
        "print(f'({np.round(ciInfMG,2)}, {np.round(ciSupMG,2)})')"
      ],
      "execution_count": 24,
      "outputs": [
        {
          "output_type": "stream",
          "name": "stdout",
          "text": [
            "(31.16, 36.74)\n"
          ]
        }
      ]
    },
    {
      "cell_type": "markdown",
      "metadata": {
        "id": "QfiTVIclUrvc"
      },
      "source": [
        "## Exercício 2\n",
        "\n",
        "Qual é o CI do tempo médio de deslocamento casa-trabalho para o estado de SP, considerando um nível de confiança de 95%?"
      ]
    },
    {
      "cell_type": "code",
      "metadata": {
        "id": "503EGlrSU0y8",
        "colab": {
          "base_uri": "https://localhost:8080/"
        },
        "outputId": "77273fbb-f8bc-4c58-9319-1395af2cc777"
      },
      "source": [
        "dfSP = df[df['sigla_uf']=='SP']\n",
        "mediaSP = dfSP['tempo_medio_deslocamento'].mean()\n",
        "desvPadSP = dfSP['tempo_medio_deslocamento'].std(ddof=0)\n",
        "tamSPQdrdSP = np.sqrt(len(dfSP))\n",
        "zValue95 = 1.96\n",
        "ciInfSP = mediaSP - zValue95*(desvPadSP/tamSPQdrdSP)\n",
        "ciSupSP = mediaSP + zValue95*(desvPadSP/tamSPQdrdSP)\n",
        "print(f'({np.round(ciInfSP,2)}, {np.round(ciSupSP,2)})')\n"
      ],
      "execution_count": 25,
      "outputs": [
        {
          "output_type": "stream",
          "name": "stdout",
          "text": [
            "(41.9, 47.13)\n"
          ]
        }
      ]
    },
    {
      "cell_type": "markdown",
      "metadata": {
        "id": "qvCxFKxTU1nm"
      },
      "source": [
        "## Exercício 3\n",
        "\n",
        "Qual é o CI do tempo **mediano** de deslocamento casa-trabalho para o estado de SP, considerando um nível de confiança de 95%?"
      ]
    },
    {
      "cell_type": "code",
      "metadata": {
        "id": "26AF4cedU9kq",
        "colab": {
          "base_uri": "https://localhost:8080/"
        },
        "outputId": "d5dca2f5-2569-4b80-a589-258db099e9ab"
      },
      "source": [
        "numAmostras = 10000\n",
        "dfSP = df[df['sigla_uf']=='SP']\n",
        "medianas = np.zeros(numAmostras)\n",
        "for i in range(numAmostras):\n",
        "    sample = dfSP['tempo_medio_deslocamento'].sample(len(dfSP), replace=True)\n",
        "    medianas[i] = sample.median()\n",
        "ciInfSP_ = np.percentile(medianas, 2.5)\n",
        "ciSupSP_ = np.percentile(medianas, 97.5)\n",
        "print(f'({np.round(ciInfSP_,2)}, {np.round(ciSupSP_,2)})')\n"
      ],
      "execution_count": 26,
      "outputs": [
        {
          "output_type": "stream",
          "name": "stdout",
          "text": [
            "(40.0, 48.0)\n"
          ]
        }
      ]
    },
    {
      "cell_type": "markdown",
      "metadata": {
        "id": "fI7HkUs5U-Fa"
      },
      "source": [
        "### Biblioteca scipy.stats\n",
        "\n",
        "O módulo de funções estatísticas scipy stats nos permite calcular o CI chamando apenas uma função. Para maiores informações, ver https://docs.scipy.org/doc/scipy/reference/generated/scipy.stats.norm.html."
      ]
    },
    {
      "cell_type": "code",
      "metadata": {
        "id": "UXTBErLABclW"
      },
      "source": [
        "import scipy.stats as st\n",
        "\n",
        "# Voltando ao problema inicial, vamos calcular o intervalo de confiança para\n",
        "# o tempo medio de deslocamento no estado de MG para um nível de confiança de 95%.\n",
        "# confidence = nivel de confiança\n",
        "# loc = array dos dados para media\n",
        "# scale = desvio padrão amostral da média\n",
        "\n",
        "ci = st.norm.interval(\n",
        "    confidence=0.95,\n",
        "    loc=media_mg,\n",
        "    scale=st.sem(\n",
        "        df_mg['tempo_medio_deslocamento'],\n",
        "        ddof=0,\n",
        "        nan_policy='omit'\n",
        "    )\n",
        ")"
      ],
      "execution_count": 27,
      "outputs": []
    },
    {
      "cell_type": "code",
      "metadata": {
        "id": "jJox9e8kY3SA",
        "colab": {
          "base_uri": "https://localhost:8080/"
        },
        "outputId": "3e69a6d3-b333-4097-85dc-2b8922efce67"
      },
      "source": [
        "np.round(ci,2)"
      ],
      "execution_count": 28,
      "outputs": [
        {
          "output_type": "execute_result",
          "data": {
            "text/plain": [
              "array([30.61, 37.28])"
            ]
          },
          "metadata": {},
          "execution_count": 28
        }
      ]
    },
    {
      "cell_type": "markdown",
      "metadata": {
        "id": "AqXAYCAZW9LH"
      },
      "source": [
        "## Exercício 4\n",
        "\n",
        "Usando a biblioteca scipy.stats, calcule e imprima o CI do tempo médio de deslocamento para cada estado brasileiro, com nível de confiança de 99% ."
      ]
    },
    {
      "cell_type": "code",
      "metadata": {
        "id": "_8124dEUXRJw",
        "colab": {
          "base_uri": "https://localhost:8080/"
        },
        "outputId": "90ee959a-1ae9-4e03-aff6-3f37b81bd482"
      },
      "source": [
        "for estado in df['sigla_uf'].unique():\n",
        "    dfEstado = df[df['sigla_uf'] == estado]\n",
        "    mediaEstado = dfEstado['tempo_medio_deslocamento'].mean()\n",
        "    ciEstado = st.norm.interval(\n",
        "        confidence = 0.99,\n",
        "        loc = mediaEstado,\n",
        "        scale = st.sem(dfEstado['tempo_medio_deslocamento'], ddof=0, nan_policy='omit')\n",
        "    )\n",
        "    print(f'{estado}: {np.round(ciEstado,2)}')"
      ],
      "execution_count": 29,
      "outputs": [
        {
          "output_type": "stream",
          "name": "stdout",
          "text": [
            "RO: [nan nan]\n",
            "AC: [nan nan]\n",
            "PA: [25.98 40.02]\n",
            "AM: [nan nan]\n",
            "RR: [nan nan]\n",
            "AP: [nan nan]\n",
            "TO: [nan nan]\n",
            "MA: [nan nan]\n",
            "PI: [nan nan]\n",
            "CE: [22.25 29.01]\n",
            "RN: [nan nan]\n",
            "PB: [nan nan]\n",
            "PE: [34.31 43.82]\n",
            "AL: [nan nan]\n",
            "SE: [nan nan]\n",
            "BA: [27.55 35.06]\n",
            "MG: [29.56 38.33]\n",
            "ES: [nan nan]\n",
            "RJ: [39.85 51.49]\n",
            "SP: [41.08 47.95]\n",
            "PR: [29.2  37.97]\n",
            "SC: [nan nan]\n",
            "RS: [nan nan]\n",
            "MS: [nan nan]\n",
            "MT: [nan nan]\n",
            "GO: [24.13 36.13]\n",
            "DF: [nan nan]\n"
          ]
        },
        {
          "output_type": "stream",
          "name": "stderr",
          "text": [
            "/usr/local/lib/python3.10/dist-packages/scipy/stats/_distn_infrastructure.py:2351: RuntimeWarning: invalid value encountered in multiply\n",
            "  lower_bound = _a * scale + loc\n",
            "/usr/local/lib/python3.10/dist-packages/scipy/stats/_distn_infrastructure.py:2352: RuntimeWarning: invalid value encountered in multiply\n",
            "  upper_bound = _b * scale + loc\n"
          ]
        }
      ]
    },
    {
      "cell_type": "markdown",
      "metadata": {
        "id": "c0triLjibE3B"
      },
      "source": [
        "## Exercício 5\n",
        "Se não há valores nulos, por que a função retorna NA para alguns estados?"
      ]
    },
    {
      "cell_type": "markdown",
      "metadata": {
        "id": "NDkZBh6abP8h"
      },
      "source": [
        "Resposta: st.sem retorna NA quando ha apenas um único dado para o estado pois não eh possivel calcular o desvio padrao e intervalo de confianca"
      ]
    },
    {
      "cell_type": "markdown",
      "metadata": {
        "id": "Uc6n2JacbQim"
      },
      "source": [
        "## Exercício 6\n",
        "\n",
        "Crie uma visualização (a seu critério) para mostrar os intervalos de confiança dos estados com valores não nulos. Qual padrão você observa?"
      ]
    },
    {
      "cell_type": "code",
      "metadata": {
        "id": "rHgfu15-bhFs",
        "colab": {
          "base_uri": "https://localhost:8080/",
          "height": 565
        },
        "outputId": "7bbbefe7-f0eb-4ae6-9d7a-95f74adefb88"
      },
      "source": [
        "import matplotlib.pyplot as plt\n",
        "medias = []\n",
        "intervDeConf = []\n",
        "for estado in df['sigla_uf'].unique():\n",
        "    dfEstado = df[df['sigla_uf'] == estado]\n",
        "    mediaEstado = dfEstado['tempo_medio_deslocamento'].mean()\n",
        "    ciEstado = st.norm.interval(\n",
        "        confidence = 0.99,\n",
        "        loc = mediaEstado,\n",
        "        scale = st.sem(dfEstado['tempo_medio_deslocamento'], ddof=0, nan_policy='omit')\n",
        "    )\n",
        "    if np.isnan(ciEstado).sum() != 0:\n",
        "        medias.append(np.nan)\n",
        "        intervDeConf.append(np.nan)\n",
        "    else:\n",
        "        medias.append(mediaEstado)\n",
        "        intervDeConf.append((ciEstado[1] - ciEstado[0])/2)\n",
        "plt.figure(figsize=(10,6))\n",
        "plt.title('Intervalos de confiança do tempo médio de deslocamento X estado')\n",
        "plt.xlabel('Estado')\n",
        "plt.ylabel('Tempo médio de deslocamento')\n",
        "plt.errorbar(x=df['sigla_uf'].unique(), y=medias, yerr=intervDeConf, fmt='o')\n",
        "plt.show()"
      ],
      "execution_count": 35,
      "outputs": [
        {
          "output_type": "display_data",
          "data": {
            "text/plain": [
              "<Figure size 1000x600 with 1 Axes>"
            ],
            "image/png": "[encoded data removed]"
          },
          "metadata": {}
        }
      ]
    },
    {
      "cell_type": "code",
      "source": [],
      "metadata": {
        "id": "Un6LAFNeo4QL"
      },
      "execution_count": null,
      "outputs": []
    }
  ]
}